{
 "cells": [
  {
   "cell_type": "code",
   "execution_count": 1,
   "metadata": {},
   "outputs": [
    {
     "name": "stderr",
     "output_type": "stream",
     "text": [
      "/usr/local/google/home/gauravpurohit/ai/app-migration-poc/.venv/lib/python3.11/site-packages/tqdm/auto.py:21: TqdmWarning: IProgress not found. Please update jupyter and ipywidgets. See https://ipywidgets.readthedocs.io/en/stable/user_install.html\n",
      "  from .autonotebook import tqdm as notebook_tqdm\n"
     ]
    }
   ],
   "source": [
    "from app_migrator_analysis import MigrationSummarizer\n",
    "summarizer = MigrationSummarizer('<Placeholder>')"
   ]
  },
  {
   "cell_type": "code",
   "execution_count": 2,
   "metadata": {},
   "outputs": [],
   "source": [
    "summaries = await summarizer.analyze_project('/usr/local/google/home/gauravpurohit/ai/sample/spring-mvc-bookstore/src/')"
   ]
  },
  {
   "cell_type": "code",
   "execution_count": 3,
   "metadata": {},
   "outputs": [],
   "source": [
    "import json\n",
    "import dataclasses\n",
    "json_analysis = json.dumps([[dataclasses.asdict(x) for x in files] for files in summaries],\n",
    "                                    sort_keys=True, indent=2)\n",
    "with open(\"result/diff.json\", \"w\") as outfile:\n",
    "    json.dump([[dataclasses.asdict(x) for x in files] for files in summaries],\n",
    "                                    outfile, sort_keys=True, indent=2)\n"
   ]
  },
  {
   "cell_type": "code",
   "execution_count": 4,
   "metadata": {},
   "outputs": [
    {
     "name": "stdout",
     "output_type": "stream",
     "text": [
      "Modified HTML saved to: result/migration_report.html\n"
     ]
    }
   ],
   "source": [
    "await summarizer.summarize_report(summaries, 'result/migration_report.html')\n"
   ]
  }
 ],
 "metadata": {
  "kernelspec": {
   "display_name": ".venv",
   "language": "python",
   "name": "python3"
  },
  "language_info": {
   "codemirror_mode": {
    "name": "ipython",
    "version": 3
   },
   "file_extension": ".py",
   "mimetype": "text/x-python",
   "name": "python",
   "nbconvert_exporter": "python",
   "pygments_lexer": "ipython3",
   "version": "3.11.9"
  }
 },
 "nbformat": 4,
 "nbformat_minor": 2
}
